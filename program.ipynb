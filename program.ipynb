{
 "cells": [
  {
   "cell_type": "code",
   "execution_count": 19,
   "metadata": {},
   "outputs": [],
   "source": [
    "import cv2 as cv\n",
    "import numpy as np"
   ]
  },
  {
   "cell_type": "code",
   "execution_count": 20,
   "metadata": {},
   "outputs": [
    {
     "data": {
      "text/plain": [
       "True"
      ]
     },
     "execution_count": 20,
     "metadata": {},
     "output_type": "execute_result"
    }
   ],
   "source": [
    "img = cv.imread('variant8.jpg')\n",
    "\n",
    "resize_h = 400\n",
    "resize_w = 400\n",
    "\n",
    "height, weight = img.shape[:2]\n",
    "centerX = int(height/2)\n",
    "centerY = int(weight/2)\n",
    "\n",
    "#New coordinate\n",
    "newX = centerX - int(resize_h/2)\n",
    "newY = centerY - int(resize_w/2)\n",
    "\n",
    "#create ROI (region of image)\n",
    "roi = img[newX: newX + resize_h, newY: newY+resize_w]\n",
    "\n",
    "cv.imshow(\"Resized image\", roi)\n",
    "cv.waitKey(0)\n",
    "cv.imwrite('closerCat.jpg', roi)"
   ]
  },
  {
   "cell_type": "code",
   "execution_count": 21,
   "metadata": {},
   "outputs": [],
   "source": [
    "cap = cv.VideoCapture(0)\n",
    "while True:\n",
    "    # Đọc khung hình từ video\n",
    "    ret, frame = cap.read()\n",
    "    \n",
    "    # Chuyển đổi ảnh sang ảnh xám\n",
    "    gray = cv.cvtColor(frame, cv.COLOR_BGR2GRAY)\n",
    "    \n",
    "    # Áp dụng bộ lọc Gaussian để làm mờ ảnh\n",
    "    blurred = cv.GaussianBlur(gray, (5, 5), 0)\n",
    "    \n",
    "    # Áp dụng phương pháp phát hiện cạnh Canny\n",
    "    edges = cv.Canny(blurred, 50, 150)\n",
    "    \n",
    "    # Tìm các đường viền bằng phương pháp phát hiện đường viền\n",
    "    contours, _ = cv.findContours(edges, cv.RETR_TREE, cv.CHAIN_APPROX_SIMPLE)\n",
    "    \n",
    "    # Vẽ các đường viền lên khung hình gốc\n",
    "    cv.drawContours(frame, contours, -1, (0, 255, 0), 2)\n",
    "    \n",
    "    # Hiển thị khung hình với các đường viền đã được vẽ\n",
    "    \n",
    "    #Request 3\n",
    "    width = int(cap.get(cv.CAP_PROP_FRAME_WIDTH))\n",
    "    height = int(cap.get(cv.CAP_PROP_FRAME_HEIGHT))\n",
    "\n",
    "    centerX = int(width/2)\n",
    "    centerY = int(height/2)\n",
    "\n",
    "    cv.line(frame, (centerX, 0), (centerX, height), (255, 0, 0), 2)\n",
    "    cv.line(frame, (0, centerY), (width, centerY), (255, 0, 0), 2)\n",
    "\n",
    "    object_center = (centerX, centerY)\n",
    "    cv.circle(frame, object_center, 5, (255, 0, 0), -1)\n",
    "    cv.imshow(\"Contours\", frame)\n",
    "\n",
    "    # Nếu nhấn phím \"q\" thì dừng vòng lặp\n",
    "    if cv.waitKey(1) == ord(\"q\"):\n",
    "        break\n",
    "\n",
    "# Giải phóng bộ nhớ và đóng cửa sổ hiển thị\n",
    "cap.release()\n",
    "cv.destroyAllWindows()"
   ]
  },
  {
   "cell_type": "code",
   "execution_count": 22,
   "metadata": {},
   "outputs": [
    {
     "ename": "",
     "evalue": "",
     "output_type": "error",
     "traceback": [
      "\u001b[1;31mThe Kernel crashed while executing code in the the current cell or a previous cell. Please review the code in the cell(s) to identify a possible cause of the failure. Click <a href='https://aka.ms/vscodeJupyterKernelCrash'>here</a> for more info. View Jupyter <a href='command:jupyter.viewOutput'>log</a> for further details."
     ]
    }
   ],
   "source": [
    "cap = cv.VideoCapture(0) \n",
    "    \n",
    "# Цикл обработки каждого кадра видео \n",
    "while True: \n",
    "    # Получение кадра видео с камеры \n",
    "    ret, frame = cap.read() \n",
    "    frame = cv.cvtColor(frame, cv.COLOR_RGB2RGBA) \n",
    "    if not ret: \n",
    "        break \n",
    "    \n",
    "    # Преобразование цветных фотографий в черно-белые \n",
    "    img_gray = cv.cvtColor(frame, cv.COLOR_BGR2GRAY) \n",
    "    \n",
    "    ret, thresh = cv.threshold(img_gray, 180, 255, cv.THRESH_BINARY) \n",
    "    # Найдите границу \n",
    "    contours, _ = cv.findContours(thresh, cv.RETR_TREE, cv.CHAIN_APPROX_NONE) \n",
    "    \n",
    "    img_copy = frame.copy() \n",
    "    fly = cv.imread(\"fly64.png\", cv.IMREAD_UNCHANGED) \n",
    "    fly = cv.resize(fly, (8, 8)) \n",
    "    \n",
    "    for i, contour in enumerate(contours):  # Цикл по одной области контура\n",
    "        for j, contour_point in enumerate(contour):  # Цикл по точкам\n",
    "            x, y = contour_point[0] \n",
    "\n",
    "            if y - fly.shape[0] // 2 >= 0 and y + fly.shape[0] // 2 < img_copy.shape[0] \\\n",
    "                and x - fly.shape[1] // 2 >= 0 and x + fly.shape[1] // 2 < img_copy.shape[1]: \n",
    "\n",
    "                if (np.min(img_copy[y - fly.shape[0] // 2:y + fly.shape[0] // 2, x - fly.shape[1] // 2:x + fly.shape[1] // 2, 3]) == 0):  \n",
    "                    continue \n",
    "\n",
    "                img_copy[y - fly.shape[0] // 2:y + fly.shape[0] // 2, x - fly.shape[1] // 2:x + fly.shape[1] // 2, :3] = fly[:, :, :3]  \n",
    "\n",
    "                # Отметьте точки, в которые было вставлено изображение мухи.\n",
    "                img_copy[y - fly.shape[0] // 2:y + fly.shape[0] // 2, x - fly.shape[1] // 2:x + fly.shape[1] // 2, 3] = 0 \n",
    "    \n",
    "    img_copy = img_copy[:, :, :3] \n",
    "    cv.imshow('Additional request', img_copy) \n",
    "    \n",
    "    # Выход из цикла по нажатию клавиши \"q\" \n",
    "    if cv.waitKey(1) & 0xFF == ord('q'): \n",
    "        break"
   ]
  }
 ],
 "metadata": {
  "kernelspec": {
   "display_name": ".venv",
   "language": "python",
   "name": "python3"
  },
  "language_info": {
   "codemirror_mode": {
    "name": "ipython",
    "version": 3
   },
   "file_extension": ".py",
   "mimetype": "text/x-python",
   "name": "python",
   "nbconvert_exporter": "python",
   "pygments_lexer": "ipython3",
   "version": "3.10.11"
  },
  "orig_nbformat": 4
 },
 "nbformat": 4,
 "nbformat_minor": 2
}
